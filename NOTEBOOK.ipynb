{
  "nbformat": 4,
  "nbformat_minor": 0,
  "metadata": {
    "colab": {
      "private_outputs": true,
      "provenance": [],
      "cell_execution_strategy": "setup"
    },
    "kernelspec": {
      "name": "python3",
      "display_name": "Python 3"
    },
    "language_info": {
      "name": "python"
    }
  },
  "cells": [
    {
      "cell_type": "code",
      "execution_count": null,
      "metadata": {
        "id": "Oubtf4wML4QD"
      },
      "outputs": [],
      "source": [
        "import pandas as pd\n",
        "df = pd.read_csv(\"Mall_Customers.csv\")"
      ]
    },
    {
      "cell_type": "code",
      "source": [
        "df.head(30)"
      ],
      "metadata": {
        "id": "zA_WhAgRNT5B"
      },
      "execution_count": null,
      "outputs": []
    },
    {
      "cell_type": "code",
      "source": [
        "print(\"Missing Values Before Cleaning:\\n\", df.isnull().sum())"
      ],
      "metadata": {
        "id": "I2bma7qzMwEm"
      },
      "execution_count": null,
      "outputs": []
    },
    {
      "cell_type": "code",
      "source": [
        "df.fillna(method='ffill', inplace=True)"
      ],
      "metadata": {
        "id": "c81etQktNP8c"
      },
      "execution_count": null,
      "outputs": []
    },
    {
      "cell_type": "code",
      "source": [
        "print(\"Duplicate Rows Before:\", df.duplicated().sum())\n",
        "df = df.drop_duplicates()"
      ],
      "metadata": {
        "id": "oTmATBNLNXlZ"
      },
      "execution_count": null,
      "outputs": []
    },
    {
      "cell_type": "code",
      "source": [
        "df['Gender'] = df['Gender'].str.strip().str.lower()"
      ],
      "metadata": {
        "id": "vSqzrqySNcSX"
      },
      "execution_count": null,
      "outputs": []
    },
    {
      "cell_type": "code",
      "source": [
        "df.columns = df.columns.str.strip().str.lower().str.replace(' ', '_')"
      ],
      "metadata": {
        "id": "y2WrqZONNh0c"
      },
      "execution_count": null,
      "outputs": []
    },
    {
      "cell_type": "code",
      "source": [
        "df['age'] = df['age'].astype(int)\n",
        "df['annual_income_(k$)'] = df['annual_income_(k$)'].astype(int)\n",
        "df['spending_score_(1-100)'] = df['spending_score_(1-100)'].astype(int)"
      ],
      "metadata": {
        "id": "HJ0HucBRNrOM"
      },
      "execution_count": null,
      "outputs": []
    },
    {
      "cell_type": "code",
      "source": [
        "# No date column in this dataset:\n",
        "# df['date'] = pd.to_datetime(df['date'], format='%d-%m-%Y', errors='coerce')"
      ],
      "metadata": {
        "id": "rC3rHe_rNxb3"
      },
      "execution_count": null,
      "outputs": []
    },
    {
      "cell_type": "code",
      "source": [
        "print(\"Final Dataset Shape:\", df.shape)\n",
        "print(\"Column Names:\", df.columns.tolist())\n",
        "print(\"Data Types:\\n\", df.dtypes)"
      ],
      "metadata": {
        "id": "KJyNvPXCN0YL"
      },
      "execution_count": null,
      "outputs": []
    },
    {
      "cell_type": "code",
      "source": [
        "df.to_csv('cleaned_mall_customers.csv', index=False)\n",
        "print(\"Cleaned data saved as 'cleaned_mall_customers.csv'\")"
      ],
      "metadata": {
        "id": "j4X-y5GgQHxO"
      },
      "execution_count": null,
      "outputs": []
    },
    {
      "cell_type": "code",
      "source": [
        "from google.colab import files\n",
        "files.download('cleaned_mall_customers.csv')"
      ],
      "metadata": {
        "id": "HnaKX2u0QJ6Q"
      },
      "execution_count": null,
      "outputs": []
    }
  ]
}